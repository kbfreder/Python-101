{
 "cells": [
  {
   "cell_type": "markdown",
   "metadata": {},
   "source": [
    "# Python 2: Loops, Ifs, & Iterations"
   ]
  },
  {
   "cell_type": "markdown",
   "metadata": {},
   "source": [
    "## for Loops"
   ]
  },
  {
   "cell_type": "code",
   "execution_count": 2,
   "metadata": {},
   "outputs": [
    {
     "name": "stdout",
     "output_type": "stream",
     "text": [
      "1\n",
      "4\n",
      "9\n"
     ]
    }
   ],
   "source": [
    "nums = [1, 2, 3]\n",
    "\n",
    "for x in nums:\n",
    "    print(x**2)"
   ]
  },
  {
   "cell_type": "markdown",
   "metadata": {},
   "source": [
    "Python has built-in methods for creating an array of numbers:"
   ]
  },
  {
   "cell_type": "code",
   "execution_count": 4,
   "metadata": {},
   "outputs": [
    {
     "name": "stdout",
     "output_type": "stream",
     "text": [
      "1\n",
      "4\n",
      "9\n"
     ]
    }
   ],
   "source": [
    "for x in range(1,4):\n",
    "    print(x**2)"
   ]
  },
  {
   "cell_type": "markdown",
   "metadata": {},
   "source": [
    "## if (then) / else"
   ]
  },
  {
   "cell_type": "code",
   "execution_count": 1,
   "metadata": {},
   "outputs": [
    {
     "name": "stdout",
     "output_type": "stream",
     "text": [
      "duck...\n",
      "duck...\n",
      "goose You're it!\n"
     ]
    }
   ],
   "source": [
    "words = ['duck', 'duck', 'goose'] \n",
    "\n",
    "for w in words:\n",
    "    if w == 'goose':\n",
    "        print(w + \" You're it!\")\n",
    "    else:\n",
    "        print(w + '...')"
   ]
  },
  {
   "cell_type": "markdown",
   "metadata": {},
   "source": [
    "** Show an example using SQL matching logic"
   ]
  },
  {
   "cell_type": "markdown",
   "metadata": {},
   "source": [
    "## List Comprehensions\n",
    "\n",
    "Pythonic short-cut for creating a list based on another list, using rules"
   ]
  },
  {
   "cell_type": "code",
   "execution_count": 8,
   "metadata": {},
   "outputs": [
    {
     "data": {
      "text/plain": [
       "[1, 4, 9]"
      ]
     },
     "execution_count": 8,
     "metadata": {},
     "output_type": "execute_result"
    }
   ],
   "source": [
    "y = [n**2 for n in nums]\n",
    "y"
   ]
  },
  {
   "cell_type": "code",
   "execution_count": 17,
   "metadata": {},
   "outputs": [
    {
     "data": {
      "text/plain": [
       "['red', 'blue', 'blue']"
      ]
     },
     "execution_count": 17,
     "metadata": {},
     "output_type": "execute_result"
    }
   ],
   "source": [
    "pons = ['FRO', 'UNI', 'EON']\n",
    "systems = ['red' if p.startswith('F') else 'blue' for p in pons]\n",
    "systems"
   ]
  },
  {
   "cell_type": "markdown",
   "metadata": {},
   "source": [
    "We can use a dictionary to map values, instead of a series of if / else statements:"
   ]
  },
  {
   "cell_type": "code",
   "execution_count": 16,
   "metadata": {},
   "outputs": [
    {
     "data": {
      "text/plain": [
       "['red', 'blue', 'orange']"
      ]
     },
     "execution_count": 16,
     "metadata": {},
     "output_type": "execute_result"
    }
   ],
   "source": [
    "pon_dict = {'F':'red', 'U':'blue', 'E':'orange'}\n",
    "systems = [pon_dict[x[0]] for x in pons]\n",
    "systems"
   ]
  },
  {
   "cell_type": "markdown",
   "metadata": {},
   "source": [
    "## Functions"
   ]
  },
  {
   "cell_type": "markdown",
   "metadata": {},
   "source": [
    "### Lamba functions"
   ]
  },
  {
   "cell_type": "markdown",
   "metadata": {},
   "source": [
    "``` SQL\n",
    ",CASE WHEN SUBSTR( COP.CUST_PURCHASE_ORDER_NBR, -4) LIKE '%/%' THEN 'BLUE'\n",
    "      WHEN REGEXP_REPLACE(COP.CUST_PURCHASE_ORDER_NBR,'[^A-Za-z0-9]','') LIKE 'DirectDE%' THEN 'RED'\n",
    "      WHEN REGEXP_REPLACE(COP.CUST_PURCHASE_ORDER_NBR,'[^A-Za-z0-9]','') LIKE 'OffnetE%' THEN 'RED'\n",
    "      WHEN REGEXP_REPLACE(COP.CUST_PURCHASE_ORDER_NBR,'[^A-Za-z0-9]','') like '200%' THEN 'RED'\n",
    "      WHEN REGEXP_REPLACE(COP.CUST_PURCHASE_ORDER_NBR,'[^A-Za-z0-9]','')  like 'B%' THEN 'RED'\n",
    "      WHEN REGEXP_REPLACE(COP.CUST_PURCHASE_ORDER_NBR,'[^A-Za-z0-9]','')  LIKE 'RDDE%' THEN 'ORANGE'\n",
    "      WHEN REGEXP_REPLACE(COP.CUST_PURCHASE_ORDER_NBR,'[^A-Za-z0-9]','')  LIKE '1%' THEN 'ORANGE'\n",
    "      WHEN REGEXP_REPLACE(COP.CUST_PURCHASE_ORDER_NBR,'[^A-Za-z0-9]','')  LIKE '3%' THEN 'ORANGE'\n",
    "      WHEN REGEXP_REPLACE(COP.CUST_PURCHASE_ORDER_NBR,'[^A-Za-z0-9]','')  LIKE '5%' THEN 'ORANGE'\n",
    "ELSE '' END AS SYSTEM_SOURCE\n",
    "```"
   ]
  },
  {
   "cell_type": "code",
   "execution_count": 7,
   "metadata": {},
   "outputs": [],
   "source": [
    "import re"
   ]
  },
  {
   "cell_type": "code",
   "execution_count": 11,
   "metadata": {},
   "outputs": [],
   "source": [
    "def strip_cpon(cpon):\n",
    "    stripped_cpon = re.sub('[^A-Za-z0-9]','', cpon)\n",
    "    return stripped_cpon"
   ]
  },
  {
   "cell_type": "code",
   "execution_count": 17,
   "metadata": {},
   "outputs": [
    {
     "name": "stdout",
     "output_type": "stream",
     "text": [
      "<_sre.SRE_Match object; span=(0, 8), match='DirectDE'>\n"
     ]
    }
   ],
   "source": [
    "test = 'Direct DE - 30338756'\n",
    "str_test = strip_cpon(test)\n",
    "print(re.match('DirectDE', str_test))"
   ]
  },
  {
   "cell_type": "code",
   "execution_count": 18,
   "metadata": {},
   "outputs": [
    {
     "name": "stdout",
     "output_type": "stream",
     "text": [
      "['DirectDE']\n"
     ]
    }
   ],
   "source": [
    "print(re.findall('DirectDE', str_test))"
   ]
  },
  {
   "cell_type": "code",
   "execution_count": null,
   "metadata": {},
   "outputs": [],
   "source": []
  },
  {
   "cell_type": "code",
   "execution_count": 21,
   "metadata": {},
   "outputs": [],
   "source": [
    "def assign_syst_source(cpon):\n",
    "    stripped_cpon = strip_cpon(cpon)\n",
    "    \n",
    "    if re.match('DirectDE', stripped_cpon) is not None:\n",
    "        return 'RED'\n",
    "    elif re.match('^B', stripped_cpon) is not None:\n",
    "        return 'RED'\n",
    "    elif re.match('^1', stripped_cpon) is not None:\n",
    "        return 'ORANGE'\n",
    "    else:\n",
    "        return ''"
   ]
  },
  {
   "cell_type": "code",
   "execution_count": 20,
   "metadata": {},
   "outputs": [
    {
     "data": {
      "text/plain": [
       "'RED'"
      ]
     },
     "execution_count": 20,
     "metadata": {},
     "output_type": "execute_result"
    }
   ],
   "source": [
    "assign_syst_source(test)"
   ]
  },
  {
   "cell_type": "code",
   "execution_count": 22,
   "metadata": {},
   "outputs": [
    {
     "data": {
      "text/plain": [
       "'ORANGE'"
      ]
     },
     "execution_count": 22,
     "metadata": {},
     "output_type": "execute_result"
    }
   ],
   "source": [
    "assign_syst_source('123456678')"
   ]
  },
  {
   "cell_type": "code",
   "execution_count": 23,
   "metadata": {},
   "outputs": [],
   "source": [
    "match_dict = {'DirectDE': 'RED', \n",
    "             'OffnetE': 'RED',\n",
    "             '^200':'RED', \n",
    "             '^B': 'RED', \n",
    "             '^RDDE': 'RED', \n",
    "             '^1': 'ORANGE',\n",
    "             '^3': 'ORANGE', \n",
    "             '^5': 'ORANGE'}"
   ]
  },
  {
   "cell_type": "code",
   "execution_count": 24,
   "metadata": {},
   "outputs": [],
   "source": [
    "def assign_syst_source_2(cpon):\n",
    "    s_cpon = strip_cpon(cpon)\n",
    "    \n",
    "    for key, val in match_dict.items():\n",
    "        if re.match(key, s_cpon) is not None:\n",
    "            return val"
   ]
  },
  {
   "cell_type": "code",
   "execution_count": 25,
   "metadata": {},
   "outputs": [
    {
     "data": {
      "text/plain": [
       "'ORANGE'"
      ]
     },
     "execution_count": 25,
     "metadata": {},
     "output_type": "execute_result"
    }
   ],
   "source": [
    "assign_syst_source_2('123456678')"
   ]
  },
  {
   "cell_type": "code",
   "execution_count": 26,
   "metadata": {},
   "outputs": [
    {
     "data": {
      "text/plain": [
       "'RED'"
      ]
     },
     "execution_count": 26,
     "metadata": {},
     "output_type": "execute_result"
    }
   ],
   "source": [
    "assign_syst_source_2(test)"
   ]
  },
  {
   "cell_type": "code",
   "execution_count": 28,
   "metadata": {},
   "outputs": [],
   "source": [
    "cpons = ['1211350_29703099'\n",
    ",'1211350_29703099'\n",
    ",'1211350_29703099'\n",
    ",'1211350_29703099'\n",
    ",'1212130_29707547'\n",
    ",'1212130_29707547'\n",
    ",'1213223_29713480'\n",
    ",'1213713_29717094'\n",
    ",'1213713_29717094'\n",
    ",'1216196_26021271'\n",
    ",'1216548'\n",
    ",'1216548'\n",
    ",'1417194/1791222'\n",
    ",'332761251ROCHH'\n",
    ",'550538429_440638449'\n",
    ",'550538429_440638449'\n",
    ",'550630765_440848418']"
   ]
  },
  {
   "cell_type": "code",
   "execution_count": 29,
   "metadata": {},
   "outputs": [
    {
     "name": "stdout",
     "output_type": "stream",
     "text": [
      "ORANGE\n",
      "ORANGE\n",
      "ORANGE\n",
      "ORANGE\n",
      "ORANGE\n",
      "ORANGE\n",
      "ORANGE\n",
      "ORANGE\n",
      "ORANGE\n",
      "ORANGE\n",
      "ORANGE\n",
      "ORANGE\n",
      "ORANGE\n",
      "ORANGE\n",
      "ORANGE\n",
      "ORANGE\n",
      "ORANGE\n"
     ]
    }
   ],
   "source": [
    "for c in cpons:\n",
    "    print(assign_syst_source_2(c))"
   ]
  },
  {
   "cell_type": "code",
   "execution_count": null,
   "metadata": {},
   "outputs": [],
   "source": []
  }
 ],
 "metadata": {
  "kernelspec": {
   "display_name": "Python 3",
   "language": "python",
   "name": "python3"
  },
  "language_info": {
   "codemirror_mode": {
    "name": "ipython",
    "version": 3
   },
   "file_extension": ".py",
   "mimetype": "text/x-python",
   "name": "python",
   "nbconvert_exporter": "python",
   "pygments_lexer": "ipython3",
   "version": "3.6.7"
  }
 },
 "nbformat": 4,
 "nbformat_minor": 2
}
